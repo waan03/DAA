{
  "nbformat": 4,
  "nbformat_minor": 0,
  "metadata": {
    "colab": {
      "provenance": [],
      "authorship_tag": "ABX9TyONOHORYvJR5dZuTmylzW7t",
      "include_colab_link": true
    },
    "kernelspec": {
      "name": "python3",
      "display_name": "Python 3"
    },
    "language_info": {
      "name": "python"
    }
  },
  "cells": [
    {
      "cell_type": "markdown",
      "metadata": {
        "id": "view-in-github",
        "colab_type": "text"
      },
      "source": [
        "<a href=\"https://colab.research.google.com/github/waan03/DAA/blob/main/DAA14.ipynb\" target=\"_parent\"><img src=\"https://colab.research.google.com/assets/colab-badge.svg\" alt=\"Open In Colab\"/></a>"
      ]
    },
    {
      "cell_type": "code",
      "execution_count": 1,
      "metadata": {
        "id": "oC0GcPYPiYr6"
      },
      "outputs": [],
      "source": [
        "import networkx as nx\n",
        "import matplotlib.pyplot as plt "
      ]
    },
    {
      "cell_type": "code",
      "source": [
        "vertices = range (1,10)\n",
        "edges = [(7,2), (2,3), (7,4), (4,5), (7,3),\n",
        "         (7,5), (1,6), (1,7), (2,8), (2,9)]"
      ],
      "metadata": {
        "id": "K-fe08yiia4Z"
      },
      "execution_count": 2,
      "outputs": []
    },
    {
      "cell_type": "code",
      "source": [
        "G = nx.Graph()\n",
        "G.add_nodes_from(vertices)\n",
        "G.add_edges_from(edges)\n",
        "pos=nx.spring_layout (G)"
      ],
      "metadata": {
        "id": "4YKyO856ibQF"
      },
      "execution_count": 3,
      "outputs": []
    },
    {
      "cell_type": "code",
      "source": [
        "nx.draw_networkx_nodes(G,pos,\n",
        "                       nodelist=[1,4,3,8,9],\n",
        "                       label=True,\n",
        "                       node_color='m',\n",
        "                       node_size=1300)"
      ],
      "metadata": {
        "colab": {
          "base_uri": "https://localhost:8080/",
          "height": 265
        },
        "id": "4T7AkJ8zicQ-",
        "outputId": "64e9534e-c4f9-472a-a3a1-dcb751c7558f"
      },
      "execution_count": 5,
      "outputs": [
        {
          "output_type": "execute_result",
          "data": {
            "text/plain": [
              "<matplotlib.collections.PathCollection at 0x7fda4bdd0e90>"
            ]
          },
          "metadata": {},
          "execution_count": 5
        },
        {
          "output_type": "display_data",
          "data": {
            "text/plain": [
              "<Figure size 432x288 with 1 Axes>"
            ],
            "image/png": "[encoded data removed]"
          },
          "metadata": {}
        }
      ]
    },
    {
      "cell_type": "code",
      "source": [
        "nx.draw_networkx_nodes(G,pos,\n",
        "                       nodelist=[2,5,6,7],\n",
        "                       label=True,\n",
        "                       node_color='b',\n",
        "                       node_size=1300)"
      ],
      "metadata": {
        "colab": {
          "base_uri": "https://localhost:8080/",
          "height": 265
        },
        "id": "mzej0lj9idoR",
        "outputId": "8f839cd6-d8c6-4f89-e61b-e263419581ab"
      },
      "execution_count": 6,
      "outputs": [
        {
          "output_type": "execute_result",
          "data": {
            "text/plain": [
              "<matplotlib.collections.PathCollection at 0x7fda4bd73690>"
            ]
          },
          "metadata": {},
          "execution_count": 6
        },
        {
          "output_type": "display_data",
          "data": {
            "text/plain": [
              "<Figure size 432x288 with 1 Axes>"
            ],
            "image/png": "[encoded data removed]"
          },
          "metadata": {}
        }
      ]
    },
    {
      "cell_type": "code",
      "source": [
        "labels={} \n",
        "labels[1]=r'1 NF' \n",
        "labels[2]=r'2 F' \n",
        "labels[3]=r'3 NF' \n",
        "labels[4]=r'4 NF' \n",
        "labels[5]=r'5 F' \n",
        "labels[6]=r'6 F' \n",
        "labels[7]=r'7 F' \n",
        "labels[8]=r'8 NF' \n",
        "labels[9]=r'9 NF'"
      ],
      "metadata": {
        "id": "SNbpjGu6ihqY"
      },
      "execution_count": 7,
      "outputs": []
    },
    {
      "cell_type": "code",
      "source": [
        "nx.draw_networkx_nodes( G,pos,nodelist=[1,4,3,8,9], label=True, \n",
        "                       node_color='g', node_size=1300)\n",
        "nx.draw_networkx_nodes(G,pos,nodelist=[2,5,6,7], label=True,\n",
        "                       node_color='r',node_size=1300)\n",
        "\n",
        "nx.draw_networkx_edges(G,pos,edges,width=3,alpha=0.5,edge_color='b')  \n",
        "nx.draw_networkx_labels(G,pos,labels,font_size=13,font_color='w')"
      ],
      "metadata": {
        "colab": {
          "base_uri": "https://localhost:8080/",
          "height": 404
        },
        "id": "yqJIAMFTijfK",
        "outputId": "a70ea939-1807-4e33-b73c-c3ee1aa9c0ec"
      },
      "execution_count": 8,
      "outputs": [
        {
          "output_type": "execute_result",
          "data": {
            "text/plain": [
              "{1: Text(-0.04591633141406078, 0.5849175580062492, '1 NF'),\n",
              " 2: Text(0.253171117508488, -0.35808146205158664, '2 F'),\n",
              " 3: Text(-0.03356362760853784, -0.27340899129849067, '3 NF'),\n",
              " 4: Text(-0.5215434717252359, 0.21934803902181707, '4 NF'),\n",
              " 5: Text(-0.5577184722561513, -0.023304945680633782, '5 F'),\n",
              " 6: Text(0.013584021655561976, 1.0, '6 F'),\n",
              " 7: Text(-0.14351342940542594, 0.05976034749273603, '7 F'),\n",
              " 8: Text(0.6763986771732828, -0.42892948607922776, '8 NF'),\n",
              " 9: Text(0.3591015160720793, -0.7803010594108639, '9 NF')}"
            ]
          },
          "metadata": {},
          "execution_count": 8
        },
        {
          "output_type": "display_data",
          "data": {
            "text/plain": [
              "<Figure size 432x288 with 1 Axes>"
            ],
            "image/png": "[encoded data removed]"
          },
          "metadata": {}
        }
      ]
    },
    {
      "cell_type": "code",
      "source": [],
      "metadata": {
        "id": "-8ivU2kjikee"
      },
      "execution_count": null,
      "outputs": []
    }
  ]
}