{
  "nbformat": 4,
  "nbformat_minor": 0,
  "metadata": {
    "colab": {
      "provenance": [],
      "authorship_tag": "ABX9TyOzqc9Uow1AIdOOvJjWQjc3",
      "include_colab_link": true
    },
    "kernelspec": {
      "name": "python3",
      "display_name": "Python 3"
    },
    "language_info": {
      "name": "python"
    }
  },
  "cells": [
    {
      "cell_type": "markdown",
      "metadata": {
        "id": "view-in-github",
        "colab_type": "text"
      },
      "source": [
        "<a href=\"https://colab.research.google.com/github/waan03/DAA/blob/main/Untitled8.ipynb\" target=\"_parent\"><img src=\"https://colab.research.google.com/assets/colab-badge.svg\" alt=\"Open In Colab\"/></a>"
      ]
    },
    {
      "cell_type": "code",
      "execution_count": 2,
      "metadata": {
        "colab": {
          "base_uri": "https://localhost:8080/"
        },
        "id": "PQI0oPm868af",
        "outputId": "49883423-7257-4fff-a464-4620d2f736f1"
      },
      "outputs": [
        {
          "output_type": "stream",
          "name": "stdout",
          "text": [
            "22 11\n"
          ]
        }
      ],
      "source": [
        "var1 = 11\n",
        "var2 = 22\n",
        "var1, var2 = var2, var1\n",
        "print(var1, var2)"
      ]
    },
    {
      "cell_type": "code",
      "source": [
        "#Latihan 1 Fungsi swap dengan 3 Variabel \n",
        "var3 = 33\n",
        "var1, var2, var3 = var3, var2, var1\n",
        "print(var1, var2, var3) "
      ],
      "metadata": {
        "colab": {
          "base_uri": "https://localhost:8080/"
        },
        "id": "HVmQbOb07QAY",
        "outputId": "2fe066fb-2599-4409-9b86-739339528eec"
      },
      "execution_count": 3,
      "outputs": [
        {
          "output_type": "stream",
          "name": "stdout",
          "text": [
            "33 11 22\n"
          ]
        }
      ]
    },
    {
      "cell_type": "code",
      "source": [
        "list = [25,21,22,24,23,27,26]\n",
        "\n",
        "#modifikasi sesuat angka favorit anda\n",
        "#proses penukaran bubble sort \n",
        "lastElementIndex = len(list)-1\n",
        "print(0,list) \n",
        "for idx in range(lastElementIndex):\n",
        "   if list[idx]>list[idx+1]:\n",
        "     list[idx], list[idx+1]=list[idx+1],list[idx]\n",
        "   print(idx+1, list)\n"
      ],
      "metadata": {
        "colab": {
          "base_uri": "https://localhost:8080/"
        },
        "id": "vHlczYi67o2V",
        "outputId": "94e46be3-e6c0-4a39-a7e3-3305db35f1e2"
      },
      "execution_count": 4,
      "outputs": [
        {
          "output_type": "stream",
          "name": "stdout",
          "text": [
            "0 [25, 21, 22, 24, 23, 27, 26]\n",
            "1 [21, 25, 22, 24, 23, 27, 26]\n",
            "2 [21, 22, 25, 24, 23, 27, 26]\n",
            "3 [21, 22, 24, 25, 23, 27, 26]\n",
            "4 [21, 22, 24, 23, 25, 27, 26]\n",
            "5 [21, 22, 24, 23, 25, 27, 26]\n",
            "6 [21, 22, 24, 23, 25, 26, 27]\n"
          ]
        }
      ]
    },
    {
      "cell_type": "code",
      "source": [
        "def BubbleSort (list):\n",
        "# Exchange the elements to arrange in order lastElementIndex = len(list)-1 for passNo in range(lastElementIndex,0,-1):\n",
        "  lastElementIndex = len(list)-1\n",
        "  for   passNo in range(lastElementIndex,0,-1):\n",
        "    for idx in range (passNo):\n",
        "      if list[idx]>list [idx+1]:\n",
        "        list[idx], list [idx+1]=list [idx+1],list[idx]\n",
        "    return list "
      ],
      "metadata": {
        "id": "R8wMUQJS8u02"
      },
      "execution_count": 5,
      "outputs": []
    },
    {
      "cell_type": "code",
      "source": [
        "list"
      ],
      "metadata": {
        "colab": {
          "base_uri": "https://localhost:8080/"
        },
        "id": "6eB69sdQ-QuX",
        "outputId": "4fce1eb2-d248-46f9-fe37-001a7cd3e65e"
      },
      "execution_count": 6,
      "outputs": [
        {
          "output_type": "execute_result",
          "data": {
            "text/plain": [
              "[21, 22, 24, 23, 25, 26, 27]"
            ]
          },
          "metadata": {},
          "execution_count": 6
        }
      ]
    },
    {
      "cell_type": "code",
      "source": [
        "BubbleSort(list)"
      ],
      "metadata": {
        "colab": {
          "base_uri": "https://localhost:8080/"
        },
        "id": "Pklmro6C-lTy",
        "outputId": "8a656e92-135d-433c-8bbf-d1dfebcad10a"
      },
      "execution_count": 7,
      "outputs": [
        {
          "output_type": "execute_result",
          "data": {
            "text/plain": [
              "[21, 22, 23, 24, 25, 26, 27]"
            ]
          },
          "metadata": {},
          "execution_count": 7
        }
      ]
    },
    {
      "cell_type": "code",
      "source": [
        "list"
      ],
      "metadata": {
        "colab": {
          "base_uri": "https://localhost:8080/"
        },
        "id": "-3SAEbmi-wyr",
        "outputId": "656edaad-5167-4d85-8f81-1cd63c3ab8bd"
      },
      "execution_count": 8,
      "outputs": [
        {
          "output_type": "execute_result",
          "data": {
            "text/plain": [
              "[21, 22, 23, 24, 25, 26, 27]"
            ]
          },
          "metadata": {},
          "execution_count": 8
        }
      ]
    },
    {
      "cell_type": "code",
      "source": [
        "#Latihan 2 Mengurutkan list yang sudah ditentukan dengan bubble sort \n",
        "ListSoal = [100,20,60,90,40,30,10]\n",
        "print(ListSoal)\n",
        "\n",
        "BubbleSort(ListSoal)"
      ],
      "metadata": {
        "colab": {
          "base_uri": "https://localhost:8080/"
        },
        "id": "CUchc11B-zLw",
        "outputId": "1482ae5f-ed72-4f89-a341-b217f2751b5a"
      },
      "execution_count": 9,
      "outputs": [
        {
          "output_type": "stream",
          "name": "stdout",
          "text": [
            "[100, 20, 60, 90, 40, 30, 10]\n"
          ]
        },
        {
          "output_type": "execute_result",
          "data": {
            "text/plain": [
              "[20, 60, 90, 40, 30, 10, 100]"
            ]
          },
          "metadata": {},
          "execution_count": 9
        }
      ]
    },
    {
      "cell_type": "code",
      "source": [
        "def insertionSort(list):\n",
        "    for i in range(1, len(list)):\n",
        "        next = list[i]\n",
        "        j = i- 1\n",
        "        \n",
        "        # Compare the current element with next one \n",
        "        while (list[j] >next)and (j>=0):\n",
        "            list[j + 1] = list[j]\n",
        "            j = j - 1\n",
        "        list[j + 1] = next\n",
        "    return list "
      ],
      "metadata": {
        "id": "GRYQiEzD_Hel"
      },
      "execution_count": 10,
      "outputs": []
    },
    {
      "cell_type": "code",
      "source": [
        "listt = [35,31,32,34,33,37,36]\n",
        "print(listt)"
      ],
      "metadata": {
        "colab": {
          "base_uri": "https://localhost:8080/"
        },
        "id": "cJ4jbh2BBAtU",
        "outputId": "29ba0159-f4fe-418e-a520-80e9e54c9270"
      },
      "execution_count": 11,
      "outputs": [
        {
          "output_type": "stream",
          "name": "stdout",
          "text": [
            "[35, 31, 32, 34, 33, 37, 36]\n"
          ]
        }
      ]
    },
    {
      "cell_type": "code",
      "source": [
        "insertionSort(listt)"
      ],
      "metadata": {
        "colab": {
          "base_uri": "https://localhost:8080/"
        },
        "id": "TMU044j6BCtm",
        "outputId": "22088612-a7d5-43d5-e2c1-83a0793de050"
      },
      "execution_count": 12,
      "outputs": [
        {
          "output_type": "execute_result",
          "data": {
            "text/plain": [
              "[31, 32, 33, 34, 35, 36, 37]"
            ]
          },
          "metadata": {},
          "execution_count": 12
        }
      ]
    },
    {
      "cell_type": "code",
      "source": [
        "LIST=[25,26,22,24,27,23,21]"
      ],
      "metadata": {
        "id": "cM9Yc9W1BFRv"
      },
      "execution_count": 13,
      "outputs": []
    },
    {
      "cell_type": "code",
      "source": [
        "insertionSort(LIST)\n",
        "print(LIST)"
      ],
      "metadata": {
        "colab": {
          "base_uri": "https://localhost:8080/"
        },
        "id": "AYIw-31cJ3hs",
        "outputId": "6ee2bf41-ecee-46db-9a27-97616100bb09"
      },
      "execution_count": 14,
      "outputs": [
        {
          "output_type": "stream",
          "name": "stdout",
          "text": [
            "[21, 22, 23, 24, 25, 26, 27]\n"
          ]
        }
      ]
    },
    {
      "cell_type": "code",
      "source": [
        "#Latihan 3 Insertion sort\n",
        "ListSoal3 = [89,12,57,16,25,11,75]\n",
        "insertionSort(ListSoal3)"
      ],
      "metadata": {
        "colab": {
          "base_uri": "https://localhost:8080/"
        },
        "id": "4BK06UxCJ8Fw",
        "outputId": "679e0af1-6e6b-43f5-df5c-16cd07ddc8c3"
      },
      "execution_count": 15,
      "outputs": [
        {
          "output_type": "execute_result",
          "data": {
            "text/plain": [
              "[11, 12, 16, 25, 57, 75, 89]"
            ]
          },
          "metadata": {},
          "execution_count": 15
        }
      ]
    },
    {
      "cell_type": "code",
      "source": [
        "def SelectionSort (list):\n",
        "  for fill_slot in range(len(list) - 1, 0, -1):\n",
        "    max_index = 0\n",
        "    for location in range(1, fill_slot + 1): \n",
        "      if list[location] > list [max_index]:\n",
        "        max_index = location\n",
        "    list [fill_slot], list [max_index] = list [max_index], list [fill_slot]\n",
        "  return list"
      ],
      "metadata": {
        "id": "tuVqGy1MKktF"
      },
      "execution_count": 16,
      "outputs": []
    },
    {
      "cell_type": "code",
      "source": [
        "listlagi = [70,15,25,19,34,44]\n",
        "SelectionSort(listlagi)"
      ],
      "metadata": {
        "colab": {
          "base_uri": "https://localhost:8080/"
        },
        "id": "bHLFxiYIMMPW",
        "outputId": "b88700bd-8b19-4d6a-c657-13c18a96947a"
      },
      "execution_count": 17,
      "outputs": [
        {
          "output_type": "execute_result",
          "data": {
            "text/plain": [
              "[15, 19, 25, 34, 44, 70]"
            ]
          },
          "metadata": {},
          "execution_count": 17
        }
      ]
    },
    {
      "cell_type": "code",
      "source": [
        "#Latihan 4 Selection sort \n",
        "listsoal4 = [89,12,57,16,25]\n",
        "SelectionSort(listsoal4)"
      ],
      "metadata": {
        "colab": {
          "base_uri": "https://localhost:8080/"
        },
        "id": "MitrPBrqMdrA",
        "outputId": "f0a41164-59a0-482b-cb1d-2c4dcacb2788"
      },
      "execution_count": 18,
      "outputs": [
        {
          "output_type": "execute_result",
          "data": {
            "text/plain": [
              "[12, 16, 25, 57, 89]"
            ]
          },
          "metadata": {},
          "execution_count": 18
        }
      ]
    },
    {
      "cell_type": "code",
      "source": [
        "def LinearSearch(list, item):\n",
        "  index = 0\n",
        "  found = False\n",
        "\n",
        "  while index < len(list) and found is False:\n",
        "    if list[index] == item:\n",
        "      found = True\n",
        "    else:\n",
        "      index = index + 1\n",
        "  return found"
      ],
      "metadata": {
        "id": "hSebu5Z3M5_B"
      },
      "execution_count": 1,
      "outputs": []
    },
    {
      "cell_type": "code",
      "source": [
        "list = [12,33,11,9,22,55,90]\n",
        "print(LinearSearch(list, 12))\n",
        "print(LinearSearch(list, 91))\n",
        "print(LinearSearch(list, 33))"
      ],
      "metadata": {
        "colab": {
          "base_uri": "https://localhost:8080/"
        },
        "id": "BcnVGfjysnXu",
        "outputId": "b6d83198-27ae-4296-d330-60bcbcee1da1"
      },
      "execution_count": 20,
      "outputs": [
        {
          "output_type": "stream",
          "name": "stdout",
          "text": [
            "True\n",
            "False\n",
            "True\n"
          ]
        }
      ]
    },
    {
      "cell_type": "code",
      "source": [
        "list = ['y','u','i','w','o','a','q','u','j','p']\n",
        "print(LinearSearch(list, 'a'))"
      ],
      "metadata": {
        "colab": {
          "base_uri": "https://localhost:8080/"
        },
        "id": "GhY-qWZWsyu4",
        "outputId": "cf136460-017f-4934-fbc1-e64d73150e91"
      },
      "execution_count": 21,
      "outputs": [
        {
          "output_type": "stream",
          "name": "stdout",
          "text": [
            "True\n"
          ]
        }
      ]
    },
    {
      "cell_type": "code",
      "source": [
        "def BinarySearch(list, item):\n",
        "  first = 0\n",
        "  last = len(list)-1\n",
        "  found = False\n",
        "\n",
        "  while first<=last and not found:\n",
        "    midpoint = (first + last)//2\n",
        "    if list[midpoint] == item:\n",
        "      found = True\n",
        "    else:\n",
        "      if item<list[midpoint]:\n",
        "        last = midpoint-1\n",
        "      else:\n",
        "        first = midpoint+1\n",
        "  return found"
      ],
      "metadata": {
        "id": "mUEqq7ndszU8"
      },
      "execution_count": 27,
      "outputs": []
    },
    {
      "cell_type": "code",
      "source": [
        "list = [12,33,11,99,22,55,90]\n",
        "print(BinarySearch(list, 12))\n",
        "print(BinarySearch(list, 91))\n"
      ],
      "metadata": {
        "colab": {
          "base_uri": "https://localhost:8080/"
        },
        "id": "yT2klmNBs11z",
        "outputId": "8d6fab7e-b212-456e-bee5-e3503fb4f637"
      },
      "execution_count": 29,
      "outputs": [
        {
          "output_type": "stream",
          "name": "stdout",
          "text": [
            "True\n",
            "False\n"
          ]
        }
      ]
    },
    {
      "cell_type": "code",
      "source": [
        "list = ['y','u','i','w','o','a','q','u','j','p']\n",
        "sorted_list = BubbleSort(list)\n",
        "print(BinarySearch(list, 'a'))"
      ],
      "metadata": {
        "colab": {
          "base_uri": "https://localhost:8080/"
        },
        "id": "PF5ypYJ6s469",
        "outputId": "c4e3a977-58c0-4a4a-88a5-715a5644c581"
      },
      "execution_count": 30,
      "outputs": [
        {
          "output_type": "stream",
          "name": "stdout",
          "text": [
            "True\n"
          ]
        }
      ]
    },
    {
      "cell_type": "code",
      "source": [
        "def IntPolsearch(list,x):\n",
        "    idx0 = 0\n",
        "    idxn = (len(list)-1)\n",
        "    found = False\n",
        "    while idx0 <= idxn and x >= list[idx0] and x <= list[idxn]:\n",
        "        \n",
        "        mid = idx0 +int(((float(idxn - idx0)/( list[idxn] - list[idx0])) * (x - list[idx0])))\n",
        "\n",
        "        if list[mid] == x:\n",
        "            found = True\n",
        "            return found\n",
        "    \n",
        "        if list[mid] < x:\n",
        "            idx0 = mid +1\n",
        "    return found"
      ],
      "metadata": {
        "id": "Dun9nIiJtT7M"
      },
      "execution_count": 31,
      "outputs": []
    },
    {
      "cell_type": "code",
      "source": [
        "list = [12,33,11,99,22,55,90]\n",
        "sorted_list = BubbleSort(list)\n",
        "print(IntPolsearch(list,12))\n",
        "print(IntPolsearch(list,91))"
      ],
      "metadata": {
        "colab": {
          "base_uri": "https://localhost:8080/"
        },
        "id": "hyIrbbZitVuE",
        "outputId": "f871f256-f821-4500-8ea8-9051ecdeadc8"
      },
      "execution_count": 32,
      "outputs": [
        {
          "output_type": "stream",
          "name": "stdout",
          "text": [
            "True\n",
            "False\n"
          ]
        }
      ]
    },
    {
      "cell_type": "code",
      "source": [
        "list = ['y','u','i','w','o','a','q','u','j','p']\n",
        "sorted_list = IntPolsearch(list, list)\n",
        "print(sorted_list)"
      ],
      "metadata": {
        "colab": {
          "base_uri": "https://localhost:8080/",
          "height": 322
        },
        "id": "XCS-V3BHtgmv",
        "outputId": "350f9a9f-c83b-4596-e0d0-7e86a8e3dfbc"
      },
      "execution_count": 36,
      "outputs": [
        {
          "output_type": "error",
          "ename": "TypeError",
          "evalue": "ignored",
          "traceback": [
            "\u001b[0;31m---------------------------------------------------------------------------\u001b[0m",
            "\u001b[0;31mTypeError\u001b[0m                                 Traceback (most recent call last)",
            "\u001b[0;32m<ipython-input-36-0a6d8b0c96a0>\u001b[0m in \u001b[0;36m<module>\u001b[0;34m\u001b[0m\n\u001b[1;32m      1\u001b[0m \u001b[0mlist\u001b[0m \u001b[0;34m=\u001b[0m \u001b[0;34m[\u001b[0m\u001b[0;34m'y'\u001b[0m\u001b[0;34m,\u001b[0m\u001b[0;34m'u'\u001b[0m\u001b[0;34m,\u001b[0m\u001b[0;34m'i'\u001b[0m\u001b[0;34m,\u001b[0m\u001b[0;34m'w'\u001b[0m\u001b[0;34m,\u001b[0m\u001b[0;34m'o'\u001b[0m\u001b[0;34m,\u001b[0m\u001b[0;34m'a'\u001b[0m\u001b[0;34m,\u001b[0m\u001b[0;34m'q'\u001b[0m\u001b[0;34m,\u001b[0m\u001b[0;34m'u'\u001b[0m\u001b[0;34m,\u001b[0m\u001b[0;34m'j'\u001b[0m\u001b[0;34m,\u001b[0m\u001b[0;34m'p'\u001b[0m\u001b[0;34m]\u001b[0m\u001b[0;34m\u001b[0m\u001b[0;34m\u001b[0m\u001b[0m\n\u001b[0;32m----> 2\u001b[0;31m \u001b[0msorted_list\u001b[0m \u001b[0;34m=\u001b[0m \u001b[0mIntPolsearch\u001b[0m\u001b[0;34m(\u001b[0m\u001b[0mlist\u001b[0m\u001b[0;34m,\u001b[0m \u001b[0mlist\u001b[0m\u001b[0;34m)\u001b[0m\u001b[0;34m\u001b[0m\u001b[0;34m\u001b[0m\u001b[0m\n\u001b[0m\u001b[1;32m      3\u001b[0m \u001b[0mprint\u001b[0m\u001b[0;34m(\u001b[0m\u001b[0msorted_list\u001b[0m\u001b[0;34m)\u001b[0m\u001b[0;34m\u001b[0m\u001b[0;34m\u001b[0m\u001b[0m\n",
            "\u001b[0;32m<ipython-input-31-3050016e2fbc>\u001b[0m in \u001b[0;36mIntPolsearch\u001b[0;34m(list, x)\u001b[0m\n\u001b[1;32m      3\u001b[0m     \u001b[0midxn\u001b[0m \u001b[0;34m=\u001b[0m \u001b[0;34m(\u001b[0m\u001b[0mlen\u001b[0m\u001b[0;34m(\u001b[0m\u001b[0mlist\u001b[0m\u001b[0;34m)\u001b[0m\u001b[0;34m-\u001b[0m\u001b[0;36m1\u001b[0m\u001b[0;34m)\u001b[0m\u001b[0;34m\u001b[0m\u001b[0;34m\u001b[0m\u001b[0m\n\u001b[1;32m      4\u001b[0m     \u001b[0mfound\u001b[0m \u001b[0;34m=\u001b[0m \u001b[0;32mFalse\u001b[0m\u001b[0;34m\u001b[0m\u001b[0;34m\u001b[0m\u001b[0m\n\u001b[0;32m----> 5\u001b[0;31m     \u001b[0;32mwhile\u001b[0m \u001b[0midx0\u001b[0m \u001b[0;34m<=\u001b[0m \u001b[0midxn\u001b[0m \u001b[0;32mand\u001b[0m \u001b[0mx\u001b[0m \u001b[0;34m>=\u001b[0m \u001b[0mlist\u001b[0m\u001b[0;34m[\u001b[0m\u001b[0midx0\u001b[0m\u001b[0;34m]\u001b[0m \u001b[0;32mand\u001b[0m \u001b[0mx\u001b[0m \u001b[0;34m<=\u001b[0m \u001b[0mlist\u001b[0m\u001b[0;34m[\u001b[0m\u001b[0midxn\u001b[0m\u001b[0;34m]\u001b[0m\u001b[0;34m:\u001b[0m\u001b[0;34m\u001b[0m\u001b[0;34m\u001b[0m\u001b[0m\n\u001b[0m\u001b[1;32m      6\u001b[0m \u001b[0;34m\u001b[0m\u001b[0m\n\u001b[1;32m      7\u001b[0m         \u001b[0mmid\u001b[0m \u001b[0;34m=\u001b[0m \u001b[0midx0\u001b[0m \u001b[0;34m+\u001b[0m\u001b[0mint\u001b[0m\u001b[0;34m(\u001b[0m\u001b[0;34m(\u001b[0m\u001b[0;34m(\u001b[0m\u001b[0mfloat\u001b[0m\u001b[0;34m(\u001b[0m\u001b[0midxn\u001b[0m \u001b[0;34m-\u001b[0m \u001b[0midx0\u001b[0m\u001b[0;34m)\u001b[0m\u001b[0;34m/\u001b[0m\u001b[0;34m(\u001b[0m \u001b[0mlist\u001b[0m\u001b[0;34m[\u001b[0m\u001b[0midxn\u001b[0m\u001b[0;34m]\u001b[0m \u001b[0;34m-\u001b[0m \u001b[0mlist\u001b[0m\u001b[0;34m[\u001b[0m\u001b[0midx0\u001b[0m\u001b[0;34m]\u001b[0m\u001b[0;34m)\u001b[0m\u001b[0;34m)\u001b[0m \u001b[0;34m*\u001b[0m \u001b[0;34m(\u001b[0m\u001b[0mx\u001b[0m \u001b[0;34m-\u001b[0m \u001b[0mlist\u001b[0m\u001b[0;34m[\u001b[0m\u001b[0midx0\u001b[0m\u001b[0;34m]\u001b[0m\u001b[0;34m)\u001b[0m\u001b[0;34m)\u001b[0m\u001b[0;34m)\u001b[0m\u001b[0;34m\u001b[0m\u001b[0;34m\u001b[0m\u001b[0m\n",
            "\u001b[0;31mTypeError\u001b[0m: '>=' not supported between instances of 'list' and 'str'"
          ]
        }
      ]
    },
    {
      "cell_type": "code",
      "source": [],
      "metadata": {
        "id": "Fge8NOKftijH"
      },
      "execution_count": null,
      "outputs": []
    }
  ]
}