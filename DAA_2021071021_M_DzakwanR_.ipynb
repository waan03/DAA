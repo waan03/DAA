{
  "nbformat": 4,
  "nbformat_minor": 0,
  "metadata": {
    "colab": {
      "provenance": [],
      "authorship_tag": "ABX9TyMDl1F4dHugMJSleHcu+FZY",
      "include_colab_link": true
    },
    "kernelspec": {
      "name": "python3",
      "display_name": "Python 3"
    },
    "language_info": {
      "name": "python"
    }
  },
  "cells": [
    {
      "cell_type": "markdown",
      "metadata": {
        "id": "view-in-github",
        "colab_type": "text"
      },
      "source": [
        "<a href=\"https://colab.research.google.com/github/waan03/DAA/blob/main/DAA_2021071021_M_DzakwanR_.ipynb\" target=\"_parent\"><img src=\"https://colab.research.google.com/assets/colab-badge.svg\" alt=\"Open In Colab\"/></a>"
      ]
    },
    {
      "cell_type": "code",
      "execution_count": 1,
      "metadata": {
        "id": "bY1i3-qAInpU"
      },
      "outputs": [],
      "source": [
        "import numpy as np"
      ]
    },
    {
      "cell_type": "code",
      "source": [
        "print(\"Hello World !\")\n",
        "print('Test')"
      ],
      "metadata": {
        "colab": {
          "base_uri": "https://localhost:8080/"
        },
        "id": "sLHvZbWnIrWQ",
        "outputId": "f355baa4-5998-40dd-9746-b205174c575f"
      },
      "execution_count": 4,
      "outputs": [
        {
          "output_type": "stream",
          "name": "stdout",
          "text": [
            "Hello World !\n",
            "Test\n"
          ]
        }
      ]
    },
    {
      "cell_type": "code",
      "source": [
        "nim = 2021071021\n",
        "print(\"Nama saya Muhammad Dzakwan Rauhillah\")\n",
        "print('NIM saya',nim)"
      ],
      "metadata": {
        "colab": {
          "base_uri": "https://localhost:8080/"
        },
        "id": "Y3C0Z-QuI1R1",
        "outputId": "148b48e8-6df5-4bde-f1dc-88a366c28513"
      },
      "execution_count": 6,
      "outputs": [
        {
          "output_type": "stream",
          "name": "stdout",
          "text": [
            "Hello World !\n",
            "NIM saya 2021071021\n"
          ]
        }
      ]
    },
    {
      "cell_type": "code",
      "source": [
        "if 5 > 2:\n",
        "  print('Lima lebih besar dari dua')\n"
      ],
      "metadata": {
        "colab": {
          "base_uri": "https://localhost:8080/"
        },
        "id": "kdMSrdNyJNQY",
        "outputId": "0e3374ed-aeac-49f4-c370-7c80d1fccd16"
      },
      "execution_count": 7,
      "outputs": [
        {
          "output_type": "stream",
          "name": "stdout",
          "text": [
            "Lima lebih besar dari dua\n"
          ]
        }
      ]
    },
    {
      "cell_type": "code",
      "source": [
        "x=5 \n",
        "y=\"john\" \n",
        "print(x)\n",
        "print(y)"
      ],
      "metadata": {
        "colab": {
          "base_uri": "https://localhost:8080/"
        },
        "id": "p57D8LcMJagC",
        "outputId": "ed597614-1193-4973-8489-1626642570a3"
      },
      "execution_count": 9,
      "outputs": [
        {
          "output_type": "stream",
          "name": "stdout",
          "text": [
            "5\n",
            "john\n"
          ]
        }
      ]
    },
    {
      "cell_type": "code",
      "source": [
        "x=5 \n",
        "x=\"Budi\" \n",
        "print(x)\n"
      ],
      "metadata": {
        "colab": {
          "base_uri": "https://localhost:8080/"
        },
        "id": "umtONeP9Jhzy",
        "outputId": "7208f48f-de33-4125-8511-c251c26016d3"
      },
      "execution_count": 10,
      "outputs": [
        {
          "output_type": "stream",
          "name": "stdout",
          "text": [
            "Budi\n"
          ]
        }
      ]
    },
    {
      "cell_type": "code",
      "source": [
        "def getFirst(myList):\n",
        "  return myList[0]\n",
        "  \n",
        "getFirst([1,4,5])"
      ],
      "metadata": {
        "colab": {
          "base_uri": "https://localhost:8080/"
        },
        "id": "HDwDIWnOJrMZ",
        "outputId": "2c4e496c-a0e7-47b5-fefc-e5f9d0333f37"
      },
      "execution_count": 12,
      "outputs": [
        {
          "output_type": "execute_result",
          "data": {
            "text/plain": [
              "1"
            ]
          },
          "metadata": {},
          "execution_count": 12
        }
      ]
    },
    {
      "cell_type": "code",
      "source": [
        "def getSecond(myList):\n",
        "  return myList[1]\n",
        "  \n",
        "getSecond([1,4,5])"
      ],
      "metadata": {
        "colab": {
          "base_uri": "https://localhost:8080/"
        },
        "id": "GonOn5wFJ8NA",
        "outputId": "b1bee112-cc07-49f8-9dab-c142fd03a486"
      },
      "execution_count": 13,
      "outputs": [
        {
          "output_type": "execute_result",
          "data": {
            "text/plain": [
              "4"
            ]
          },
          "metadata": {},
          "execution_count": 13
        }
      ]
    },
    {
      "cell_type": "code",
      "source": [
        "def getLast(myList):\n",
        "  return myList[-1]\n",
        "  \n",
        "getLast([1,4,5])"
      ],
      "metadata": {
        "colab": {
          "base_uri": "https://localhost:8080/"
        },
        "id": "sddyc4-AKAkS",
        "outputId": "f30a10ef-16ab-4a7a-f1ca-4f7fa2e72191"
      },
      "execution_count": 16,
      "outputs": [
        {
          "output_type": "execute_result",
          "data": {
            "text/plain": [
              "5"
            ]
          },
          "metadata": {},
          "execution_count": 16
        }
      ]
    },
    {
      "cell_type": "code",
      "source": [
        "def getSum(myList):\n",
        "  sum=0\n",
        "  for item in myList:\n",
        "    sum=sum+item\n",
        "  return sum\n",
        "getSum([1,5,6])"
      ],
      "metadata": {
        "colab": {
          "base_uri": "https://localhost:8080/"
        },
        "id": "y_ywCDn7KJU3",
        "outputId": "fb5ff828-b99f-4bcc-ec65-1e75799bb61f"
      },
      "execution_count": 18,
      "outputs": [
        {
          "output_type": "execute_result",
          "data": {
            "text/plain": [
              "12"
            ]
          },
          "metadata": {},
          "execution_count": 18
        }
      ]
    },
    {
      "cell_type": "code",
      "source": [
        "def getKali(myList):\n",
        "  sum=1\n",
        "  for item in myList:\n",
        "    sum=sum*item\n",
        "  return sum\n",
        "getKali([8,5,6])"
      ],
      "metadata": {
        "colab": {
          "base_uri": "https://localhost:8080/"
        },
        "id": "uzDX6mF6Ku3I",
        "outputId": "dae2685f-39ec-452e-9c67-df152484da0a"
      },
      "execution_count": 22,
      "outputs": [
        {
          "output_type": "execute_result",
          "data": {
            "text/plain": [
              "240"
            ]
          },
          "metadata": {},
          "execution_count": 22
        }
      ]
    },
    {
      "cell_type": "code",
      "source": [
        "def getBagi(myList):\n",
        "  sum=myList[0]\n",
        "  for item in myList[1:]:\n",
        "    sum /= item\n",
        "  return sum\n",
        "getBagi([10,5])"
      ],
      "metadata": {
        "colab": {
          "base_uri": "https://localhost:8080/"
        },
        "id": "sjUSx-VhK0N6",
        "outputId": "3b5d510b-1613-43e2-ecce-9851bc67f724"
      },
      "execution_count": 58,
      "outputs": [
        {
          "output_type": "execute_result",
          "data": {
            "text/plain": [
              "2.0"
            ]
          },
          "metadata": {},
          "execution_count": 58
        }
      ]
    },
    {
      "cell_type": "code",
      "source": [
        "def getSumm(myList):\n",
        "  sum=0\n",
        "  for row in myList:\n",
        "    for item in row:\n",
        "      sum += item\n",
        "  return sum\n",
        "\n",
        "getSumm([[1,2,5],[3,4,7]])"
      ],
      "metadata": {
        "colab": {
          "base_uri": "https://localhost:8080/"
        },
        "id": "w3lzUF9TL_AJ",
        "outputId": "c754b95b-c25c-417e-bc12-2473cc8f4098"
      },
      "execution_count": 42,
      "outputs": [
        {
          "output_type": "execute_result",
          "data": {
            "text/plain": [
              "22"
            ]
          },
          "metadata": {},
          "execution_count": 42
        }
      ]
    },
    {
      "cell_type": "code",
      "source": [
        "def getBagi(myList):\n",
        "  sum = 48\n",
        "  \n",
        "  for row in myList:\n",
        "    for item in row:\n",
        "      sum /= item\n",
        "  return sum\n",
        "\n",
        "getBagi([[4,3],[2,5]])"
      ],
      "metadata": {
        "colab": {
          "base_uri": "https://localhost:8080/"
        },
        "id": "goMZnbpXNuPc",
        "outputId": "ac3cb92f-9edd-4cd6-b9f7-642beb2f8efd"
      },
      "execution_count": 81,
      "outputs": [
        {
          "output_type": "execute_result",
          "data": {
            "text/plain": [
              "0.4"
            ]
          },
          "metadata": {},
          "execution_count": 81
        }
      ]
    },
    {
      "cell_type": "code",
      "source": [
        "def getKurang(myList):\n",
        "  sum = 32\n",
        "  for row in myList:\n",
        "    for item in row:\n",
        "      sum -= item\n",
        "  return sum\n",
        "getKurang([[5,3],[4,1]])"
      ],
      "metadata": {
        "colab": {
          "base_uri": "https://localhost:8080/"
        },
        "id": "MytuBoLISm96",
        "outputId": "c2d6e315-8e07-425d-d840-9a3196c2df3b"
      },
      "execution_count": 90,
      "outputs": [
        {
          "output_type": "execute_result",
          "data": {
            "text/plain": [
              "19"
            ]
          },
          "metadata": {},
          "execution_count": 90
        }
      ]
    }
  ]
}