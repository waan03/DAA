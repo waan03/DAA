{
  "nbformat": 4,
  "nbformat_minor": 0,
  "metadata": {
    "colab": {
      "provenance": [],
      "authorship_tag": "ABX9TyN3EyK1gRgKz+Y+tTZAr8iS",
      "include_colab_link": true
    },
    "kernelspec": {
      "name": "python3",
      "display_name": "Python 3"
    },
    "language_info": {
      "name": "python"
    }
  },
  "cells": [
    {
      "cell_type": "markdown",
      "metadata": {
        "id": "view-in-github",
        "colab_type": "text"
      },
      "source": [
        "<a href=\"https://colab.research.google.com/github/waan03/DAA/blob/main/DAA05.ipynb\" target=\"_parent\"><img src=\"https://colab.research.google.com/assets/colab-badge.svg\" alt=\"Open In Colab\"/></a>"
      ]
    },
    {
      "cell_type": "code",
      "source": [
        "def countInversion(arr):\n",
        "  result=0\n",
        "  for i in range (len(arr)):\n",
        "    for j in range (i+1,len(arr)):\n",
        "      if arr[i]>arr[j]:\n",
        "        result+=1\n",
        "  return result"
      ],
      "metadata": {
        "id": "P6WBchF6pCbR"
      },
      "execution_count": null,
      "outputs": []
    },
    {
      "cell_type": "code",
      "source": [
        "arr=[2,21,70,36,14,25]"
      ],
      "metadata": {
        "id": "gdFB0rEIpsAC"
      },
      "execution_count": null,
      "outputs": []
    },
    {
      "cell_type": "code",
      "source": [
        "result=countInversion(arr)\n",
        "print(result)\n",
        "print(type(arr))"
      ],
      "metadata": {
        "colab": {
          "base_uri": "https://localhost:8080/"
        },
        "id": "WopWAeyTpwEe",
        "outputId": "aba19539-9c58-4b69-8396-6b3ca7653dca"
      },
      "execution_count": null,
      "outputs": [
        {
          "output_type": "stream",
          "name": "stdout",
          "text": [
            "6\n",
            "<class 'list'>\n"
          ]
        }
      ]
    },
    {
      "cell_type": "code",
      "source": [
        "def countInversion(arr):\n",
        "  icount=0\n",
        "  if len(arr)<=1:\n",
        "    return icount\n",
        "\n",
        "  mid=len(arr)//2\n",
        "  left=arr[:mid]\n",
        "  right=arr[mid:]\n",
        "  icount+=countInversion(left)\n",
        "  icount+=countInversion(right)\n",
        "  i=j=k=0\n",
        "\n",
        "  #print (left)\n",
        "  #print(right)\n",
        "\n",
        "  while i<len(left) and j<len(right):\n",
        "    if left[i]<right[j]:\n",
        "      arr[k]=left[i]\n",
        "      i+=1\n",
        "    else:\n",
        "      #print(left/i),right[j])\n",
        "      arr[k]=right[j]\n",
        "      j+=1\n",
        "      icount+=(mid-i)\n",
        "    k+=1\n",
        "\n",
        "  while i<len(left):\n",
        "    arr[k]=left[i]\n",
        "    i+=1\n",
        "    k+=1\n",
        "\n",
        "  while j<len(right):\n",
        "    arr[k]=right[j]\n",
        "    j+=1\n",
        "    k+=1\n",
        "  return icount"
      ],
      "metadata": {
        "id": "IrCclFAwp-Tr"
      },
      "execution_count": null,
      "outputs": []
    },
    {
      "cell_type": "code",
      "source": [
        "arr=[1,20,6,4,5]\n",
        "##0 1,20,6,4,5\n",
        "##1 1,6,20,4,5"
      ],
      "metadata": {
        "id": "7U9ihnbxytc2"
      },
      "execution_count": null,
      "outputs": []
    },
    {
      "cell_type": "code",
      "source": [
        "result=countInversion(arr)\n",
        "print(result)\n",
        "print(type(arr))"
      ],
      "metadata": {
        "colab": {
          "base_uri": "https://localhost:8080/"
        },
        "id": "TxWHSoH5zRWO",
        "outputId": "0f9f4aed-5b44-4a19-9b06-67af392c5242"
      },
      "execution_count": null,
      "outputs": [
        {
          "output_type": "stream",
          "name": "stdout",
          "text": [
            "5\n",
            "<class 'list'>\n"
          ]
        }
      ]
    },
    {
      "cell_type": "code",
      "source": [
        "def maxSubSum(arr):\n",
        "  max_so_far=0\n",
        "  max_ending_here=0\n",
        "  for i in range (len(arr)):\n",
        "    max_ending_here+=arr[i]\n",
        "    if max_ending_here>max_so_far:\n",
        "      max_so_far=max_ending_here\n",
        "    if max_ending_here<0:\n",
        "      max_ending_here=0\n",
        "  return max_so_far"
      ],
      "metadata": {
        "id": "L_6oYjuOzUc9"
      },
      "execution_count": null,
      "outputs": []
    },
    {
      "cell_type": "code",
      "source": [
        "arr=[-2,-5,6,-2,-3,1,5,-6]\n",
        "result=maxSubSum(arr)\n",
        "print(result)"
      ],
      "metadata": {
        "colab": {
          "base_uri": "https://localhost:8080/"
        },
        "id": "_pPoT7vn5pvj",
        "outputId": "278c6384-3212-43aa-a3ef-5c20902bcbc4"
      },
      "execution_count": null,
      "outputs": [
        {
          "output_type": "stream",
          "name": "stdout",
          "text": [
            "7\n"
          ]
        }
      ]
    },
    {
      "cell_type": "code",
      "source": [
        "def maxCrossingSum(arr,low,mid,high):\n",
        "  result=0; leftSum=float('-infinity')\n",
        "  for i in range(mid,low-1,-1):\n",
        "    result+=arr[i]\n",
        "    if result>leftSum:\n",
        "      leftSum=result\n",
        "  result=0; rightSum=float('-infinity')\n",
        "  for i in range (mid+1, high+1):\n",
        "    result+=arr[i]\n",
        "    if result>rightSum:\n",
        "      rightSum=result\n",
        "  return leftSum+rightSum\n",
        "\n",
        "def maxSum(arr,low,high):\n",
        "  if low==high:\n",
        "    return arr[low]\n",
        "  mid=(low+high)//2\n",
        "  return max(maxSum(arr,low,mid),maxSum(arr,mid+1,high),maxCrossingSum(arr,low,mid,high))"
      ],
      "metadata": {
        "id": "bPqTS9U05v5_"
      },
      "execution_count": null,
      "outputs": []
    },
    {
      "cell_type": "code",
      "source": [
        "arr=[-2,-5,6,-2,-3,1,5,-6]\n",
        "result=maxSum(arr,0,len(arr)-1)\n",
        "print(result)"
      ],
      "metadata": {
        "colab": {
          "base_uri": "https://localhost:8080/"
        },
        "id": "nsTVejdb7mD3",
        "outputId": "7b65db87-cae2-46a0-c857-d2eef53680b6"
      },
      "execution_count": null,
      "outputs": [
        {
          "output_type": "stream",
          "name": "stdout",
          "text": [
            "7\n"
          ]
        }
      ]
    },
    {
      "cell_type": "code",
      "source": [
        "def commonPrefix(str1,str2):\n",
        "    n1=len(str1);n2=len(str2)\n",
        "    i,j=0,0\n",
        "    s=\"\"\n",
        "    while i<n1 and j<n2:\n",
        "        if str1[i]==str2[j]:\n",
        "            s+=str1[i]\n",
        "            i+=1\n",
        "            j+=1\n",
        "        else:\n",
        "            break\n",
        "    return s"
      ],
      "metadata": {
        "id": "2_cpWbWW9-k8"
      },
      "execution_count": null,
      "outputs": []
    },
    {
      "cell_type": "code",
      "source": [
        "def longestCommonPrefix(arr,low,high):\n",
        "    if low==high:\n",
        "        return arr[low]\n",
        "    mid=(low+high)//2\n",
        "    result1=longestCommonPrefix(arr,low,mid)\n",
        "    result2=longestCommonPrefix(arr,mid+1,high)\n",
        "    result=commonPrefix(result1,result2)\n",
        "    return result"
      ],
      "metadata": {
        "id": "XXvbP1D3Bi1T"
      },
      "execution_count": null,
      "outputs": []
    },
    {
      "cell_type": "code",
      "source": [
        "arr=['geeksforgeeks','geeks','geek','geezer']\n",
        "result=longestCommonPrefix(arr,0,len(arr)-1)\n",
        "print(result)"
      ],
      "metadata": {
        "colab": {
          "base_uri": "https://localhost:8080/"
        },
        "id": "QS2JKa-EBxK2",
        "outputId": "c3898318-7c3e-4821-f568-0be7c042dc43"
      },
      "execution_count": null,
      "outputs": [
        {
          "output_type": "stream",
          "name": "stdout",
          "text": [
            "gee\n"
          ]
        }
      ]
    },
    {
      "cell_type": "code",
      "source": [
        "arr=['apple','ape','april']\n",
        "result=longestCommonPrefix(arr,0,len(arr)-1)\n",
        "print(result)"
      ],
      "metadata": {
        "colab": {
          "base_uri": "https://localhost:8080/"
        },
        "id": "41ge7ToOTkBW",
        "outputId": "c15e6f1a-f380-47ae-d02a-8034584856c4"
      },
      "execution_count": null,
      "outputs": [
        {
          "output_type": "stream",
          "name": "stdout",
          "text": [
            "ap\n"
          ]
        }
      ]
    },
    {
      "cell_type": "code",
      "source": [
        "def medianOfArray(arr1,arr2,n):\n",
        "  m1=-1 #first number\n",
        "  m2=-1 #second number\n",
        "  count=0\n",
        "  i=j=0\n",
        "  while count<n+1:\n",
        "    count+=1\n",
        "    if i==n: #i==5 index error if arr1[i]<arr2[j] is checked\n",
        "        m1=m2\n",
        "        m2=arr2[0]\n",
        "        break\n",
        "    if j==n:\n",
        "        m1=m2\n",
        "        m2=arr1[0]\n",
        "        break\n",
        "    if arr1[i]<arr2[j]:\n",
        "        m1=m2\n",
        "        m2=arr1[i]\n",
        "        i+=1\n",
        "    else:\n",
        "        m1=m2\n",
        "        m2=arr2[j]\n",
        "        j+=1\n",
        "  return(m1+m2)//2"
      ],
      "metadata": {
        "id": "wNi2ePYGTmLG"
      },
      "execution_count": null,
      "outputs": []
    },
    {
      "cell_type": "code",
      "source": [
        "arr1=[1,12,15,26,38]\n",
        "arr2=[2,13,17,30,45]"
      ],
      "metadata": {
        "id": "Jsnh7qZBTrK-"
      },
      "execution_count": null,
      "outputs": []
    },
    {
      "cell_type": "code",
      "source": [
        "print(medianOfArray(arr1,arr2,len(arr1)))"
      ],
      "metadata": {
        "colab": {
          "base_uri": "https://localhost:8080/"
        },
        "id": "B54A8nOGTsyV",
        "outputId": "472af19e-a281-4223-c425-3127ca84e659"
      },
      "execution_count": null,
      "outputs": [
        {
          "output_type": "stream",
          "name": "stdout",
          "text": [
            "16\n"
          ]
        }
      ]
    },
    {
      "cell_type": "code",
      "source": [
        "def floorSorted(arr,low,high,x):\n",
        "  #print(low,high)\n",
        "  if low>high:\n",
        "    return -1\n",
        "\n",
        "  if arr[low]>x:\n",
        "    #print(\"inside\")\n",
        "    return -1\n",
        "  \n",
        "  if arr[high]<=x:\n",
        "    return arr[high]\n",
        "\n",
        "  mid=(low+high)//2\n",
        "\n",
        "  if arr[mid]==x:\n",
        "    return arr[mid]\n",
        "\n",
        "  if mid>0 and x>=arr[mid-1] and arr[mid]>x:\n",
        "    return arr[mid-1]\n",
        "\n",
        "  if mid<high and x<arr[mid+1] and x>=arr[mid]:\n",
        "    return arr[mid]\n",
        "  \n",
        "  if x>arr[mid]:\n",
        "    return floorSorted(arr,mid+1,high,x)\n",
        "  else:\n",
        "    return floorSorted(arr,low,mid-1,x)"
      ],
      "metadata": {
        "id": "OLqo6yszTtGU"
      },
      "execution_count": null,
      "outputs": []
    },
    {
      "cell_type": "code",
      "source": [
        "arr=[1,2,8,10,12,14,19]\n",
        "x=5\n",
        "print(floorSorted(arr,0,len(arr)-1,x))"
      ],
      "metadata": {
        "colab": {
          "base_uri": "https://localhost:8080/"
        },
        "id": "yjpm0TpeTx22",
        "outputId": "25f30323-10c7-496c-9264-5ae30a775a5b"
      },
      "execution_count": null,
      "outputs": [
        {
          "output_type": "stream",
          "name": "stdout",
          "text": [
            "2\n"
          ]
        }
      ]
    },
    {
      "cell_type": "code",
      "source": [
        "def closestNumber(arr,low,high,x):\n",
        "    if low>high:\n",
        "        return -1\n",
        "    if arr[high]<=x:\n",
        "        return arr[high]\n",
        "    if arr[low]>=x:\n",
        "        return arr[low]\n",
        "    mid=(low+high)//2\n",
        "    if arr[mid]==x:\n",
        "        return arr[mid]\n",
        "    abs_mid=abs(arr[mid-1]-x)\n",
        "    if mid>0:\n",
        "        abs_left=abs(arr[mid-1]-x)\n",
        "        if abs_left<abs_mid:\n",
        "            return closestNumber(arr,low,mid-1,x)\n",
        "    if mid<high:\n",
        "        abs_right=abs(arr[mid+1]-x)\n",
        "        if abs_right<abs_mid:\n",
        "            return closestNumber(arr,mid+1,high,x,)\n",
        "    #print('after')\n",
        "    return arr[mid]"
      ],
      "metadata": {
        "id": "s8eu1ZeQTyNf"
      },
      "execution_count": null,
      "outputs": []
    },
    {
      "cell_type": "code",
      "source": [
        "arr=[2,5,6,7,8,8,9]\n",
        "x=9\n",
        "print(closestNumber(arr,0,len(arr)-1,x))"
      ],
      "metadata": {
        "colab": {
          "base_uri": "https://localhost:8080/"
        },
        "id": "8dWXnQm1T2Ke",
        "outputId": "f29589a3-67b2-43e2-96c8-8932abbcd254"
      },
      "execution_count": null,
      "outputs": [
        {
          "output_type": "stream",
          "name": "stdout",
          "text": [
            "9\n"
          ]
        }
      ]
    },
    {
      "cell_type": "code",
      "source": [
        "#Mencari Fixed Point dengan metode divide dan conquer\n",
        "\n",
        "def fixedPoint(arr,low,high):\n",
        "    if low>high:\n",
        "        return -1\n",
        "    if arr[high]==high:\n",
        "        return arr[high]\n",
        "    if arr[low]==low:\n",
        "        return arr[low]\n",
        "    mid=(low+high)//2\n",
        "    if arr[mid]==mid:\n",
        "        return arr[mid]\n",
        "    if mid>arr[mid]:\n",
        "       return fixedPoint(arr,mid+1,high)\n",
        "    else:\n",
        "        return fixedPoint(arr,low,mid-1)"
      ],
      "metadata": {
        "id": "I7OjuudOT2wm"
      },
      "execution_count": null,
      "outputs": []
    },
    {
      "cell_type": "code",
      "source": [
        "arr=[9,1,4,5,2]\n",
        "print(fixedPoint(arr,0,len(arr)-1))"
      ],
      "metadata": {
        "colab": {
          "base_uri": "https://localhost:8080/"
        },
        "id": "RVOLCrUlT6Am",
        "outputId": "27b5f48a-21e3-4184-b4ef-086b48b78400"
      },
      "execution_count": null,
      "outputs": [
        {
          "output_type": "stream",
          "name": "stdout",
          "text": [
            "1\n"
          ]
        }
      ]
    },
    {
      "cell_type": "code",
      "source": [],
      "metadata": {
        "id": "MPJyCen8T68G"
      },
      "execution_count": null,
      "outputs": []
    }
  ]
}