{
  "nbformat": 4,
  "nbformat_minor": 0,
  "metadata": {
    "colab": {
      "provenance": [],
      "authorship_tag": "ABX9TyOXjmPyjkcwHwcKsoi1fQYj",
      "include_colab_link": true
    },
    "kernelspec": {
      "name": "python3",
      "display_name": "Python 3"
    },
    "language_info": {
      "name": "python"
    }
  },
  "cells": [
    {
      "cell_type": "markdown",
      "metadata": {
        "id": "view-in-github",
        "colab_type": "text"
      },
      "source": [
        "<a href=\"https://colab.research.google.com/github/waan03/DAA/blob/main/DAA11.ipynb\" target=\"_parent\"><img src=\"https://colab.research.google.com/assets/colab-badge.svg\" alt=\"Open In Colab\"/></a>"
      ]
    },
    {
      "cell_type": "code",
      "execution_count": 40,
      "metadata": {
        "id": "bCaStsdO7zeD"
      },
      "outputs": [],
      "source": [
        "#  A____B\n",
        "#  |    |\n",
        "#  |    |\n",
        "#  C____D____E\n",
        "# Gambar graph yang akan dibuat"
      ]
    },
    {
      "cell_type": "code",
      "source": [
        "graf = {  \"A\" : [\"B\",\"C\"],\n",
        "          \"B\" : [\"A\",\"D\"],\n",
        "          \"C\" : [\"A\",\"D\"],\n",
        "          \"D\" : [\"B\",\"C\",\"E\"],\n",
        "          \"E\" : [\"D\"]}\n",
        "print(graf)\n",
        "type(graf)"
      ],
      "metadata": {
        "colab": {
          "base_uri": "https://localhost:8080/"
        },
        "id": "sdeHh4dD8l08",
        "outputId": "0e67e2c3-589d-4525-eacb-104962040bc8"
      },
      "execution_count": 41,
      "outputs": [
        {
          "output_type": "stream",
          "name": "stdout",
          "text": [
            "{'A': ['B', 'C'], 'B': ['A', 'D'], 'C': ['A', 'D'], 'D': ['B', 'C', 'E'], 'E': ['D']}\n"
          ]
        },
        {
          "output_type": "execute_result",
          "data": {
            "text/plain": [
              "dict"
            ]
          },
          "metadata": {},
          "execution_count": 41
        }
      ]
    },
    {
      "cell_type": "code",
      "source": [
        "#LATIHAN 1\n",
        "# S T U V W X Z\n",
        "graf1 = { \"S\" : [\"X\"],\n",
        "          \"T\" : [\"U\",\"W\"],\n",
        "          \"U\" : [\"T\",\"V\"],\n",
        "          \"V\" : [\"U\",\"X\"],\n",
        "          \"W\" : [\"T\",\"X\",\"Z\"],\n",
        "          \"X\" : [\"V\",\"W\",\"S\"],\n",
        "          \"Z\" : [\"W\"]}\n",
        "print(graf1)\n",
        "type(graf1)"
      ],
      "metadata": {
        "colab": {
          "base_uri": "https://localhost:8080/"
        },
        "id": "njx5_3Po9Frv",
        "outputId": "f955ad20-222c-4b80-a802-77321fc7a326"
      },
      "execution_count": 42,
      "outputs": [
        {
          "output_type": "stream",
          "name": "stdout",
          "text": [
            "{'S': ['X'], 'T': ['U', 'W'], 'U': ['T', 'V'], 'V': ['U', 'X'], 'W': ['T', 'X', 'Z'], 'X': ['V', 'W', 'S'], 'Z': ['W']}\n"
          ]
        },
        {
          "output_type": "execute_result",
          "data": {
            "text/plain": [
              "dict"
            ]
          },
          "metadata": {},
          "execution_count": 42
        }
      ]
    },
    {
      "cell_type": "code",
      "source": [
        "#LATIHAN 2\n",
        "#L M N O P R\n",
        "graf2 = { \"L\" : [\"P\",\"R\"],\n",
        "          \"M\" : [\"N\",\"O\"],\n",
        "          \"N\" : [\"M\",\"P\"],\n",
        "          \"O\" : [\"M\",\"P\",\"R\"],\n",
        "          \"P\" : [\"L\",\"N\",\"O\"],\n",
        "          \"R\" : [\"L\",\"O\"]}\n",
        "print(graf2)\n",
        "type(graf2)"
      ],
      "metadata": {
        "colab": {
          "base_uri": "https://localhost:8080/"
        },
        "id": "_cFg4XSk-5Wx",
        "outputId": "613c7ca6-1391-464b-a329-c8b01054353b"
      },
      "execution_count": 43,
      "outputs": [
        {
          "output_type": "stream",
          "name": "stdout",
          "text": [
            "{'L': ['P', 'R'], 'M': ['N', 'O'], 'N': ['M', 'P'], 'O': ['M', 'P', 'R'], 'P': ['L', 'N', 'O'], 'R': ['L', 'O']}\n"
          ]
        },
        {
          "output_type": "execute_result",
          "data": {
            "text/plain": [
              "dict"
            ]
          },
          "metadata": {},
          "execution_count": 43
        }
      ]
    },
    {
      "cell_type": "code",
      "source": [
        "class graph:\n",
        "  def __init__(self,gdict=None):\n",
        "    if gdict is None:\n",
        "      gdict = []\n",
        "    self.gdict = gdict\n",
        "\n",
        "#Mencari vertex yang ada pada graph \n",
        "  def getVertices(self):\n",
        "    return list (self.gdict.keys())\n",
        "\n",
        "#Membuat dictionary dengan elemen graph \n",
        "graf = {  \"A\" : [\"B\",\"C\"],\n",
        "          \"B\" : [\"A\",\"D\"],\n",
        "          \"C\" : [\"A\",\"D\"],\n",
        "          \"D\" : [\"B\",\"C\",\"E\"],\n",
        "          \"E\" : [\"D\"]}\n",
        "g= graph(graf)\n",
        "\n",
        "print(g.getVertices())"
      ],
      "metadata": {
        "colab": {
          "base_uri": "https://localhost:8080/"
        },
        "id": "0u70N5qsAH7M",
        "outputId": "4ba6a818-e72c-43da-9b91-0b6fcf1bc065"
      },
      "execution_count": 44,
      "outputs": [
        {
          "output_type": "stream",
          "name": "stdout",
          "text": [
            "['A', 'B', 'C', 'D', 'E']\n"
          ]
        }
      ]
    },
    {
      "cell_type": "code",
      "source": [
        "#LATIHAN 3\n",
        "print(graph(graf1).getVertices())"
      ],
      "metadata": {
        "colab": {
          "base_uri": "https://localhost:8080/"
        },
        "id": "U7NoQYo4BVwy",
        "outputId": "000a7d77-9976-4e7f-9dba-f56902a6adaa"
      },
      "execution_count": 45,
      "outputs": [
        {
          "output_type": "stream",
          "name": "stdout",
          "text": [
            "['S', 'T', 'U', 'V', 'W', 'X', 'Z']\n"
          ]
        }
      ]
    },
    {
      "cell_type": "code",
      "source": [
        "#LATIHAN 4\n",
        "rom = graph(graf2)\n",
        "print(rom.getVertices())"
      ],
      "metadata": {
        "colab": {
          "base_uri": "https://localhost:8080/"
        },
        "id": "wL8Hf4dSBq3D",
        "outputId": "a62b7fd8-273a-4888-ccb8-548822c221b9"
      },
      "execution_count": 46,
      "outputs": [
        {
          "output_type": "stream",
          "name": "stdout",
          "text": [
            "['L', 'M', 'N', 'O', 'P', 'R']\n"
          ]
        }
      ]
    },
    {
      "cell_type": "code",
      "source": [
        "class graph:\n",
        "  def __init__(self,gdict=None):\n",
        "    if gdict is None:\n",
        "      gdict = []\n",
        "    self.gdict = gdict\n",
        "\n",
        "  def edges(self):\n",
        "    return self.finedges()\n",
        "\n",
        "#Mencari list hubungan antar vertex\n",
        "  def finedges(self):\n",
        "    edgename = []\n",
        "    for vrtx in self.gdict:\n",
        "      for nxtvrtx in self.gdict[vrtx]:\n",
        "        if {nxtvrtx, vrtx} not in edgename:\n",
        "          edgename.append({vrtx,nxtvrtx})\n",
        "    return edgename\n",
        "\n",
        "g = graph(graf)\n",
        "print(g.edges())"
      ],
      "metadata": {
        "colab": {
          "base_uri": "https://localhost:8080/"
        },
        "id": "tXD7-OyBCH3N",
        "outputId": "87fc1cc0-83b7-40d4-8d36-09ea8e730655"
      },
      "execution_count": 47,
      "outputs": [
        {
          "output_type": "stream",
          "name": "stdout",
          "text": [
            "[{'A', 'B'}, {'A', 'C'}, {'D', 'B'}, {'C', 'D'}, {'E', 'D'}]\n"
          ]
        }
      ]
    },
    {
      "cell_type": "code",
      "source": [
        "#LATIHAN 5 \n",
        "print(graph(graf1).edges())"
      ],
      "metadata": {
        "colab": {
          "base_uri": "https://localhost:8080/"
        },
        "id": "DNfLq1yzEG0W",
        "outputId": "7e74dc45-9890-44a2-b334-b65739dcd04c"
      },
      "execution_count": 48,
      "outputs": [
        {
          "output_type": "stream",
          "name": "stdout",
          "text": [
            "[{'S', 'X'}, {'T', 'U'}, {'T', 'W'}, {'V', 'U'}, {'V', 'X'}, {'W', 'X'}, {'Z', 'W'}]\n"
          ]
        }
      ]
    },
    {
      "cell_type": "code",
      "source": [
        "#LATIHAN 6 \n",
        "romedge = graph(graf2)\n",
        "print(romedge.edges())"
      ],
      "metadata": {
        "colab": {
          "base_uri": "https://localhost:8080/"
        },
        "id": "jvs0oM6_JQ0P",
        "outputId": "908e66f3-e378-45d4-9ece-0229048df3bc"
      },
      "execution_count": 49,
      "outputs": [
        {
          "output_type": "stream",
          "name": "stdout",
          "text": [
            "[{'P', 'L'}, {'R', 'L'}, {'N', 'M'}, {'O', 'M'}, {'N', 'P'}, {'O', 'P'}, {'R', 'O'}]\n"
          ]
        }
      ]
    },
    {
      "cell_type": "code",
      "source": [
        "class graph:\n",
        "  def __init__(self,gdict=None):\n",
        "    if gdict is None:\n",
        "      gdict = []\n",
        "    self.gdict = gdict\n",
        "\n",
        "  def getVertices(self):\n",
        "    return list (self.gdict.keys())\n",
        "\n",
        "# Menambahkan vertex \n",
        "  def addvrtx(self, vrtx):\n",
        "    if vrtx not in self.gdict:\n",
        "      self.gdict[vrtx] = []\n",
        "\n",
        "g=graph(graf)\n",
        "g.addvrtx(\"F\")\n",
        "print(g.getVertices())"
      ],
      "metadata": {
        "colab": {
          "base_uri": "https://localhost:8080/"
        },
        "id": "j-3BtN3DKObw",
        "outputId": "1e6dad9e-b3eb-474a-9934-6751d302d562"
      },
      "execution_count": 50,
      "outputs": [
        {
          "output_type": "stream",
          "name": "stdout",
          "text": [
            "['A', 'B', 'C', 'D', 'E', 'F']\n"
          ]
        }
      ]
    },
    {
      "cell_type": "code",
      "source": [
        "#LATIHAN 7 \n",
        "graph(graf1).addvrtx(\"Y\")\n",
        "print(graph(graf1).getVertices())"
      ],
      "metadata": {
        "colab": {
          "base_uri": "https://localhost:8080/"
        },
        "id": "bdfL-qyDM68T",
        "outputId": "295bf378-1327-485b-9e0c-78bb87875ed4"
      },
      "execution_count": 51,
      "outputs": [
        {
          "output_type": "stream",
          "name": "stdout",
          "text": [
            "['S', 'T', 'U', 'V', 'W', 'X', 'Z', 'Y']\n"
          ]
        }
      ]
    },
    {
      "cell_type": "code",
      "source": [
        "#LATIHAN 8 \n",
        "romadd = graph(graf2)\n",
        "romadd.addvrtx(\"Q\")\n",
        "print(romadd.getVertices())"
      ],
      "metadata": {
        "colab": {
          "base_uri": "https://localhost:8080/"
        },
        "id": "kmjVHBHkNb6p",
        "outputId": "56d524af-7cb3-47c7-874e-18b882e68e11"
      },
      "execution_count": 52,
      "outputs": [
        {
          "output_type": "stream",
          "name": "stdout",
          "text": [
            "['L', 'M', 'N', 'O', 'P', 'R', 'Q']\n"
          ]
        }
      ]
    },
    {
      "cell_type": "code",
      "source": [
        "class graph:\n",
        "  def __init__(self,gdict=None):\n",
        "    if gdict is None:\n",
        "      gdict = []\n",
        "    self.gdict = gdict\n",
        "\n",
        "  def edges(self):\n",
        "    return self.finedges()\n",
        "\n",
        "# Menambahkan edge baru \n",
        "  def addEdge(self,edge):\n",
        "    edge = set(edge)\n",
        "    (vrtx1,vrtx2) = tuple(edge)\n",
        "    if vrtx1 in self.gdict:\n",
        "      self.gdict[vrtx1].append(vrtx2)\n",
        "    else:\n",
        "       self.gdict[vrtx1] = [vrtx2]\n",
        "\n",
        "# List nama edge \n",
        "  def finedges(self):\n",
        "    edgename = []\n",
        "    for vrtx in self.gdict:\n",
        "      for nxtvrtx in self.gdict[vrtx]:\n",
        "        if {nxtvrtx, vrtx} not in edgename:\n",
        "          edgename.append({vrtx,nxtvrtx})\n",
        "    return edgename\n",
        "\n",
        "g=graph(graf)\n",
        "g.addEdge({'A','E'})\n",
        "g.addEdge({'E','C'})\n",
        "print(g.edges())"
      ],
      "metadata": {
        "colab": {
          "base_uri": "https://localhost:8080/"
        },
        "id": "AL6AMou4N6iQ",
        "outputId": "5ccfc1c9-16b9-481c-a646-b035d208ca1c"
      },
      "execution_count": 53,
      "outputs": [
        {
          "output_type": "stream",
          "name": "stdout",
          "text": [
            "[{'A', 'B'}, {'A', 'C'}, {'D', 'B'}, {'C', 'D'}, {'E', 'D'}, {'E', 'A'}, {'E', 'C'}]\n"
          ]
        }
      ]
    },
    {
      "cell_type": "code",
      "source": [
        "#Latihan 9\n",
        "g=graph(graf1)\n",
        "g.addEdge({'Y','Z'})\n",
        "print(g.edges())"
      ],
      "metadata": {
        "colab": {
          "base_uri": "https://localhost:8080/"
        },
        "id": "UHP5pzSbORAg",
        "outputId": "5b68b084-379f-40ce-82db-cf76df5c86e3"
      },
      "execution_count": 54,
      "outputs": [
        {
          "output_type": "stream",
          "name": "stdout",
          "text": [
            "[{'S', 'X'}, {'T', 'U'}, {'T', 'W'}, {'V', 'U'}, {'V', 'X'}, {'W', 'X'}, {'Z', 'W'}, {'Z', 'Y'}]\n"
          ]
        }
      ]
    },
    {
      "cell_type": "code",
      "source": [
        "#Latihan 10\n",
        "g=graph(graf2)\n",
        "g.addEdge({'Q','R'})\n",
        "print(g.edges())"
      ],
      "metadata": {
        "colab": {
          "base_uri": "https://localhost:8080/"
        },
        "id": "etYH9dalQBYI",
        "outputId": "b0967da4-5853-4ef8-f75a-330b32a014d7"
      },
      "execution_count": 55,
      "outputs": [
        {
          "output_type": "stream",
          "name": "stdout",
          "text": [
            "[{'P', 'L'}, {'R', 'L'}, {'N', 'M'}, {'O', 'M'}, {'N', 'P'}, {'O', 'P'}, {'R', 'O'}, {'Q', 'R'}]\n"
          ]
        }
      ]
    }
  ]
}